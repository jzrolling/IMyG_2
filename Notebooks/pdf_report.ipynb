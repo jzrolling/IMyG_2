{
 "cells": [
  {
   "cell_type": "code",
   "execution_count": 163,
   "metadata": {},
   "outputs": [],
   "source": [
    "import matplotlib.pyplot as plt\n",
    "import numpy as np\n",
    "import pandas as pd\n",
    "import seaborn as sns\n",
    "import pickle as pk\n",
    "import os,glob,re\n",
    "import tifffile\n",
    "from matplotlib.gridspec import GridSpec\n",
    "from matplotlib import cm\n",
    "import fpdf\n",
    "from math import isnan"
   ]
  },
  {
   "cell_type": "code",
   "execution_count": 164,
   "metadata": {},
   "outputs": [],
   "source": [
    "#create_msr_infodict\n",
    "msr_info = pd.read_excel(\"/Users/jz-rolling/Desktop/AutoP/MSR_reference_new.xls\")\n",
    "MSR_dict = {}\n",
    "for i in msr_info.index:\n",
    "    plate = msr_info.iloc[i][\"MSR_INDEX\"]\n",
    "    if plate == \"PP1\":\n",
    "        plate = \"MSR_PP1\"\n",
    "    if plate not in MSR_dict:\n",
    "        MSR_dict[plate] = {}\n",
    "    well = msr_info.iloc[i][\"WELL_NO\"]\n",
    "    locus = msr_info.iloc[i][\"MSMEG_####\"]\n",
    "    if not isnan(locus):\n",
    "        locus = \"MSMEG_{}\".format(str(int(locus)).zfill(4))\n",
    "        MSR_dict[plate][well] = locus"
   ]
  },
  {
   "cell_type": "code",
   "execution_count": 294,
   "metadata": {},
   "outputs": [],
   "source": [
    "def read_gff(locus,gff):\n",
    "    if locus in gff[\"Locus\"].values:\n",
    "        items = [\"Start\",\"Stop\",\"Strand\",\"Name\",\"Product\",\"UniProt_AC\",'Orthologues M. tuberculosis']\n",
    "        gene = gff[gff[\"Locus\"]==locus].copy()\n",
    "        return (gene[items].values[0])\n",
    "    else:\n",
    "        raise ValueError(\"Locus not found!\")\n",
    "\n",
    "def read_essentiality(locus,info_table):\n",
    "    es_call_msm,es_call_mtb,\\\n",
    "    mtb_gene_name,mtb_gene_description = 'nan','nan','nan','nan' \n",
    "    if locus in msm_tnseq[\"Locus\"].values:\n",
    "        es_call_msm = es_conversion[int(msm_tnseq[msm_tnseq[\"Locus\"]==locus][\"Essentiality\"].values[0])]\n",
    "        mtb_ortholog = info_table[-1]\n",
    "        if mtb_ortholog in mtb_tnseq[\"ORF ID\"].values:\n",
    "            mtb_gene = mtb_tnseq[mtb_tnseq[\"ORF ID\"]==mtb_ortholog]\n",
    "            es_call_mtb = mtb_gene[\"Final Call\"].values[0]\n",
    "            mtb_gene_name = mtb_gene[\"Name\"].values[0]\n",
    "            mtb_gene_description = mtb_gene[\"Description\"].values[0]\n",
    "    return es_call_msm,es_call_mtb,mtb_gene_name,mtb_gene_description\n",
    "    \n",
    "def reconstruct_operons(operon_df):\n",
    "    operon_dict = {}\n",
    "    for operon in operon_df.values:\n",
    "        operon = operon[0][6:]\n",
    "        split_genes = operon.split(\"-\")\n",
    "        for gene in split_genes:\n",
    "            operon_dict[\"MSMEG_\"+gene] = operon\n",
    "    return operon_dict\n",
    "\n",
    "def reconstruct_go(go_df):\n",
    "    locus_list = set(go_df[\"Locus\"].values)\n",
    "    locus_dict = {}\n",
    "    for locus in locus_list:\n",
    "        locus_dict[locus] = \"|\".join(list(go_df[go_df[\"Locus\"]==locus][\"Description\"].values))\n",
    "    return locus_dict"
   ]
  },
  {
   "cell_type": "code",
   "execution_count": 162,
   "metadata": {},
   "outputs": [],
   "source": [
    "gff = pd.read_excel(\"/Volumes/Sam/info/msm_gff.xls\")\n",
    "msm_tnseq = pd.read_excel(\"/Volumes/Sam/info/msm_tnseq.xlsx\")\n",
    "mtb_tnseq = pd.read_excel(\"/Volumes/Sam/info/mtb_tnseq.xlsx\")\n",
    "es_conversion = {1:\"NE\",2:\"ES\",3:\"DE\"}\n",
    "operon_df = pd.read_excel(\"/Volumes/Sam/info/msm_operon.xlsx\")\n",
    "go_df = pd.read_excel(\"/Volumes/Sam/info/smegmatis_GO_terms_08_28_2017.xlsx\")\n",
    "operon_dict = reconstruct_operons(operon_df)\n",
    "go_dict = reconstruct_go(go_df)"
   ]
  },
  {
   "cell_type": "code",
   "execution_count": 165,
   "metadata": {},
   "outputs": [],
   "source": [
    "#create_msr_pathdict\n",
    "path_dict = {}\n",
    "plates = glob.glob(\"/Volumes/Sam/MSR*_IDW/\")\n",
    "for plate in plates:\n",
    "    plate_name = plate.split(\"/\")[-2][:-4]\n",
    "    if plate_name not in path_dict:\n",
    "        path_dict[plate_name] = {}\n",
    "    subfolder = glob.glob(plate+\"*raw_files/\")[0]\n",
    "    if len(glob.glob(subfolder+\"*raw_files/\")) > 0:\n",
    "        babyfolders = glob.glob(subfolder+\"*raw_files/\")\n",
    "        for babyfolder in babyfolders:\n",
    "            wells = glob.glob(babyfolder+\"output/Well*/\")\n",
    "            batch = babyfolder.split(\"/\")[-2][:-10]\n",
    "            if len(wells)>0:\n",
    "                for well_folder in wells:\n",
    "                    well = well_folder.split(\"/\")[-2][-3:]\n",
    "                    if well in path_dict[plate_name]:\n",
    "                        path_dict[plate_name][well].append(well_folder)\n",
    "                    else:\n",
    "                        path_dict[plate_name][well] = [well_folder]\n",
    "    else:\n",
    "        wells = glob.glob(subfolder+\"output/Well*/\")\n",
    "        batch = subfolder.split(\"/\")[-2][:-10]\n",
    "        if len(wells)>0:\n",
    "            for well_folder in wells:\n",
    "                well = well_folder.split(\"/\")[-2][-3:]\n",
    "                if well in path_dict[plate_name]:\n",
    "                    path_dict[plate_name][well].append(well_folder)\n",
    "                else:\n",
    "                    path_dict[plate_name][well] = [well_folder]"
   ]
  },
  {
   "cell_type": "code",
   "execution_count": 264,
   "metadata": {},
   "outputs": [],
   "source": [
    "from fpdf import FPDF\n",
    "def add_image(pdf,img,x,y,w):\n",
    "    pdf.image(img,x=x,y=y,w=w)"
   ]
  },
  {
   "cell_type": "code",
   "execution_count": 330,
   "metadata": {},
   "outputs": [],
   "source": [
    "def frame_page(pdf,locus,img,plate,well,batch):\n",
    "    info_table = read_gff(locus,gff)\n",
    "    name,product,up_id,mtb_ortholog = str(info_table[3]),str(info_table[4]),str(info_table[5]),str(info_table[6])\n",
    "    es_call_msm,es_call_mtb,\\\n",
    "    mtb_gene_name,mtb_gene_description = read_essentiality(locus,info_table)\n",
    "    if locus in operon_dict:\n",
    "        operon = operon_dict[locus]\n",
    "    else:\n",
    "        operon = \"nan\"\n",
    "    \n",
    "    if locus in go_dict:\n",
    "        go = go_dict[locus]\n",
    "    else:\n",
    "        go = \"nan\"\n",
    "    pdf.add_page()\n",
    "    pdf.set_line_width(0.8)\n",
    "    pdf.line(20,172,185,172)\n",
    "    pdf.line(20,210,185,210)\n",
    "    add_image(pdf,img,20,3,170)\n",
    "    pdf.cell(5,163,ln=1)\n",
    "    pdf.cell(10,7)\n",
    "    pdf.cell(80,7,\"Plate: {}, well: {}, batch: {}.\".format(plate,well,batch),\\\n",
    "             border = 0,ln=1)\n",
    "    pdf.cell(10,7)\n",
    "    \n",
    "    pdf.cell(80,7,\"Locus: Msm | Mtb: {} | {}.  Uniprot: {}.\".format(locus,mtb_ortholog,up_id),\\\n",
    "             border = 0,ln=1)\n",
    "    pdf.cell(10,7)\n",
    "    pdf.cell(80,7,\"Name: Msm | Mtb: {} | {}.\".format(name,mtb_gene_name),\\\n",
    "             border = 0,ln=1)\n",
    "    pdf.cell(10,7)\n",
    "    pdf.cell(80,7,\"Essentiality: Msm | Mtb: {} | {}.\".format(es_call_msm,es_call_mtb),\\\n",
    "             border = 0,ln=1)\n",
    "    pdf.cell(10,7)\n",
    "    pdf.cell(80,7,\"Operon: {}.\".format(operon),border = 0,ln=1)\n",
    "    pdf.cell(10,4,ln=1)\n",
    "    i = 0\n",
    "    while i < len(product):\n",
    "        if i == 0:\n",
    "            substr = \"Product: \"+product[i:min(i+64,len(product))]\n",
    "            i += 64\n",
    "        else:\n",
    "            substr = \" \"*12+product[i:min(i+64,len(product))]\n",
    "            i += 64\n",
    "        pdf.cell(10,8)\n",
    "        pdf.cell(80,8,substr,border = 0,ln=1)\n",
    "    j = 0\n",
    "    while j < len(go):\n",
    "        if j == 0:\n",
    "            substr = \"GO     : \"+go[j:min(j+64,len(go))]\n",
    "            j+=64\n",
    "        else:\n",
    "            substr = \" \"*12+go[j:min(j+64,len(go))]\n",
    "            j+=64\n",
    "        pdf.cell(10,8)\n",
    "        pdf.cell(80,8,substr,border = 0,ln=1)"
   ]
  },
  {
   "cell_type": "code",
   "execution_count": 359,
   "metadata": {},
   "outputs": [],
   "source": [
    "locus = \"MSMEG_0001\"\n",
    "plate = \"test\"\n",
    "well = \"test\"\n",
    "batch = \"test\"\n",
    "img=\"/Users/jz-rolling/Desktop/not_enough_cells.png\"\n",
    "pdf = FPDF(orientation='P', unit='mm', format='A4')\n",
    "pdf.set_font('Arial', size=13)\n",
    "for i in range(1,5):\n",
    "    locus = \"MSMEG_\"+str(i).zfill(4)\n",
    "    #print(locus)\n",
    "    frame_page(pdf,locus,img,plate,well,batch)"
   ]
  },
  {
   "cell_type": "code",
   "execution_count": 280,
   "metadata": {},
   "outputs": [
    {
     "data": {
      "text/plain": [
       "'DNA polymerase III, beta subunit'"
      ]
     },
     "execution_count": 280,
     "metadata": {},
     "output_type": "execute_result"
    }
   ],
   "source": [
    "read_gff(\"MSMEG_0001\",gff)[4]"
   ]
  },
  {
   "cell_type": "code",
   "execution_count": 366,
   "metadata": {
    "scrolled": true
   },
   "outputs": [
    {
     "name": "stdout",
     "output_type": "stream",
     "text": [
      "Plate MSR11, well H12 is supposed to be empty!\n",
      "Plate MSR1, well B07 is supposed to be empty!\n",
      "Plate MSR1, well C10 is supposed to be empty!\n",
      "Plate MSR1, well E08 is supposed to be empty!\n",
      "Plate MSR1, well G10 is supposed to be empty!\n",
      "Plate MSR3, well C07 is supposed to be empty!\n",
      "Plate MSR6, well A05 is supposed to be empty!\n",
      "Plate MSR6, well G06 is supposed to be empty!\n",
      "Plate MSR7, well D05 is supposed to be empty!\n",
      "Plate MSR9, well E02 is supposed to be empty!\n"
     ]
    }
   ],
   "source": [
    "coords = [[5,5],[100,5],[5,130],[100,130]]\n",
    "for plate,wells in path_dict.items():\n",
    "    pdf = FPDF(orientation='P', unit='mm', format='A4')\n",
    "    pdf.set_font('Arial', size=13)\n",
    "    for well,well_folders in wells.items():\n",
    "        if well not in MSR_dict[plate]:\n",
    "                print(\"Plate {}, well {} is supposed to be empty!\".format(plate,well))\n",
    "        else:\n",
    "            for folder in well_folders:\n",
    "                batch = folder.split(\"/\")[-4][:-10]\n",
    "                summary_plot = glob.glob(folder+\"summary_plot.png\")\n",
    "                if len(summary_plot) == 1:\n",
    "                    img = summary_plot[0]\n",
    "                else:\n",
    "                    img = \"/Users/jz-rolling/Desktop/not_enough_cells.png\"\n",
    "                locus = MSR_dict[plate][well]\n",
    "                frame_page(pdf,locus,img,plate,well,batch)\n",
    "                cell_plots = glob.glob(folder+\"*extensive_plot.png\")\n",
    "                if len(cell_plots) > 0:\n",
    "                    pdf.add_page()\n",
    "                    _idx = np.arange(len(cell_plots))\n",
    "                    np.random.shuffle(_idx)\n",
    "                    for i in range(min(4,len(_idx))):\n",
    "                        (x,y) = coords[i]\n",
    "                        w = 95\n",
    "                        plot = cell_plots[_idx[i]]\n",
    "                        add_image(pdf,plot,x,y,w)\n",
    "    pdf.output(\"/Volumes/Sam/summary/{}.pdf\".format(plate))"
   ]
  },
  {
   "cell_type": "code",
   "execution_count": 365,
   "metadata": {},
   "outputs": [
    {
     "data": {
      "text/plain": [
       "''"
      ]
     },
     "execution_count": 365,
     "metadata": {},
     "output_type": "execute_result"
    }
   ],
   "source": [
    "pdf.output(\"/Users/jz-rolling/Desktop/img.pdf\")"
   ]
  },
  {
   "cell_type": "code",
   "execution_count": 316,
   "metadata": {},
   "outputs": [
    {
     "data": {
      "text/plain": [
       "66.0033111111111"
      ]
     },
     "execution_count": 316,
     "metadata": {},
     "output_type": "execute_result"
    }
   ],
   "source": [
    "pdf.get_string_width(\"/Users/jz-rolling/Desktop/img.pdf\")"
   ]
  },
  {
   "cell_type": "code",
   "execution_count": 340,
   "metadata": {},
   "outputs": [],
   "source": [
    "a = np.arange(5)\n",
    "np.random.shuffle(a)"
   ]
  },
  {
   "cell_type": "code",
   "execution_count": 360,
   "metadata": {},
   "outputs": [],
   "source": [
    "pdf.add_page()\n",
    "add_image(pdf,\"/Volumes/Sam/MSR2_IDW/plate2_raw_files/08232019_raw_files/output/Well_A01/MSR2_A01_0_0_45_0_extensive_plot.png\",5,5,95)\n",
    "add_image(pdf,\"/Volumes/Sam/MSR2_IDW/plate2_raw_files/08232019_raw_files/output/Well_A01/MSR2_A01_0_0_45_0_extensive_plot.png\",100,5,95)\n",
    "add_image(pdf,\"/Volumes/Sam/MSR2_IDW/plate2_raw_files/08232019_raw_files/output/Well_A01/MSR2_A01_0_0_45_0_extensive_plot.png\",5,130,95)\n",
    "add_image(pdf,\"/Volumes/Sam/MSR2_IDW/plate2_raw_files/08232019_raw_files/output/Well_A01/MSR2_A01_0_0_45_0_extensive_plot.png\",100,130,95)"
   ]
  },
  {
   "cell_type": "code",
   "execution_count": null,
   "metadata": {},
   "outputs": [],
   "source": []
  }
 ],
 "metadata": {
  "kernelspec": {
   "display_name": "Python 3",
   "language": "python",
   "name": "python3"
  },
  "language_info": {
   "codemirror_mode": {
    "name": "ipython",
    "version": 3
   },
   "file_extension": ".py",
   "mimetype": "text/x-python",
   "name": "python",
   "nbconvert_exporter": "python",
   "pygments_lexer": "ipython3",
   "version": "3.6.8"
  }
 },
 "nbformat": 4,
 "nbformat_minor": 2
}
