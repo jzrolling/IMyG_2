{
 "cells": [
  {
   "cell_type": "code",
   "execution_count": 1,
   "metadata": {},
   "outputs": [],
   "source": [
    "import numpy as np\n",
    "from scipy import optimize\n",
    "import pandas as pd\n",
    "import pickle as pk\n",
    "import tifffile\n",
    "import matplotlib.pyplot as plt\n",
    "from scipy import interpolate\n",
    "import glob,os"
   ]
  },
  {
   "cell_type": "code",
   "execution_count": 2,
   "metadata": {},
   "outputs": [
    {
     "name": "stdout",
     "output_type": "stream",
     "text": [
      "/Users/jz-rolling/PycharmProjects/IMyG_2\n"
     ]
    }
   ],
   "source": [
    "cd ~/PycharmProjects/IMyG_2/"
   ]
  },
  {
   "cell_type": "code",
   "execution_count": 3,
   "metadata": {},
   "outputs": [],
   "source": [
    "import IMyG as im"
   ]
  },
  {
   "cell_type": "code",
   "execution_count": 4,
   "metadata": {},
   "outputs": [],
   "source": [
    "def moving_window_average(data,window_size = 5):\n",
    "    if len(data) <= window_size+2:\n",
    "        raise ValueError(\"Input array does not have enough values\")\n",
    "    else:\n",
    "        cum_sum = np.cumsum(np.insert(data,0,0))\n",
    "        return ((cum_sum[window_size:]-cum_sum[:-window_size])/float(window_size))\n",
    "\n",
    "def measure_variability(data,cut_off = 10,percentile = 90):\n",
    "    val = np.log10(data[data >= np.percentile(data,percentile)].mean()/data.mean())\n",
    "    if val > 1:\n",
    "        val = 1\n",
    "    return round(val,3)\n",
    "\n",
    "def center_of_mass(data,xcor):\n",
    "    center = np.sum((data)*xcor)/np.sum((data))\n",
    "    return np.round(center,3)\n",
    "\n",
    "def normalize_array(data,min_val,max_val,base=0):\n",
    "    return((data-min_val+base)/(max_val-min_val+base))\n",
    "\n",
    "def weighted_segmentation(data,quantile_filter = 0.05,weighted_center = True):\n",
    "    if quantile_filter:\n",
    "        min_threshould = np.quantile(data,quantile_filter)\n",
    "    else:\n",
    "        min_threshould = 0\n",
    "    filtered_data = data.copy()\n",
    "    normalized_data = normalize_array(filtered_data,min_threshould,filtered_data.max())\n",
    "    normalized_data[filtered_data<=min_threshould] = 0.0\n",
    "    xcor = np.linspace(0,1,len(normalized_data))\n",
    "    if weighted_center:\n",
    "        com_0 = center_of_mass(normalized_data,xcor)\n",
    "    else:\n",
    "        com_0 = 0.5\n",
    "    adjusted_center_dist_1 = int(com_0*len(normalized_data))\n",
    "    adjusted_center_dist_2 = len(normalized_data) - adjusted_center_dist_1\n",
    "    first_half = normalized_data[:adjusted_center_dist_1]\n",
    "    xcor_first = xcor[:adjusted_center_dist_1]\n",
    "    second_half = normalized_data[-adjusted_center_dist_2:]\n",
    "    xcor_second = xcor[-adjusted_center_dist_2:]\n",
    "    com_1 = center_of_mass(first_half,xcor_first)\n",
    "    com_2 = center_of_mass(second_half,xcor_second)\n",
    "    com_dist = com_2-com_1\n",
    "    return [com_1,com_0,com_2],round(com_dist,3)\n",
    "\n",
    "def segmented_mean(data,quantile_filter = 0.05,weighted_center = True):\n",
    "    smoothed = moving_window_average(data)\n",
    "    interpolated = np.interp(np.linspace(0,1,200),np.linspace(0,1,len(data)),data)\n",
    "    smoothed = moving_window_average(interpolated)\n",
    "    [c1,c2,c3],c_dist = weighted_segmentation(smoothed,\\\n",
    "                                              quantile_filter=quantile_filter,\\\n",
    "                                              weighted_center=weighted_center)\n",
    "    n_points = len(smoothed)\n",
    "    c1,c2,c3 = int(c1*n_points),int(c2*n_points),int(c3*n_points)\n",
    "    l1,l2,r1,r2 = smoothed[:c1].mean(),smoothed[c1:c2].mean(),smoothed[c2:c3].mean(),smoothed[c3:].mean()\n",
    "    h1,h2 = smoothed[:c2].mean(),smoothed[c2:].mean()\n",
    "    pole,center = np.concatenate([smoothed[:c1],smoothed[c3:]]).mean(),\\\n",
    "                  smoothed[c1:c3].mean()\n",
    "    return(l1,l2,r1,r2,h1,h2,pole,center)\n",
    "\n",
    "def measure_symmetry(p1,p2):\n",
    "    if p1>p2:\n",
    "        return round(p2/p1,3)\n",
    "    else:\n",
    "        return round(p1/p2,3)\n",
    "\n",
    "def measure_centrifugality(pole,center):\n",
    "    return(round(np.log2(pole/center),3))\n",
    "\n",
    "def measure_membrane_idx(data,quantile_filter = 0.2,weighted_center = True,window = 2):\n",
    "    interpolated = np.interp(np.linspace(0,1,100),np.linspace(0,1,len(data)),data)\n",
    "    smoothed = moving_window_average(interpolated)\n",
    "    [c1,c2,c3],c_dist = weighted_segmentation(smoothed,\\\n",
    "                                              quantile_filter=quantile_filter,\\\n",
    "                                              weighted_center=weighted_center)\n",
    "    n_points = len(smoothed)\n",
    "    w = window\n",
    "    c1,c2,c3 = int(c1*n_points),int(c2*n_points),int(c3*n_points)\n",
    "    #print(c1,c2,c3)\n",
    "    v1 = smoothed[max(0,c1-window):min(len(smoothed),c1+window)].mean()\n",
    "    v2 = smoothed[max(0,c2-window):min(len(smoothed),c2+window)].mean()\n",
    "    v3 = smoothed[max(0,c3-window):min(len(smoothed),c3+window)].mean()\n",
    "    ratio = round(np.average([v1,v3])/v2,3)\n",
    "    return ratio,c_dist"
   ]
  },
  {
   "cell_type": "code",
   "execution_count": 6,
   "metadata": {
    "scrolled": false
   },
   "outputs": [],
   "source": [
    "def batch_measure(output_path):\n",
    "    folders = glob.glob(output_path+\"Well*/\")\n",
    "    for folder in folders:\n",
    "        well_info = folder.split(\"/\")[-2]\n",
    "        files = glob.glob(folder+\"*.pk\")\n",
    "        pooled_data = []\n",
    "        output = []\n",
    "        for file in files:\n",
    "            pooled_data += pk.load(open(file,'rb'))\n",
    "        counter = 0\n",
    "        for cell in pooled_data:\n",
    "            try:\n",
    "                fl_straighten_axial = cell.fl_straighten[\"FITC\"][2]\n",
    "                fl_straighten_lateral = cell.fl_straighten[\"FITC\"][0]\n",
    "                fl_contour = cell.measure_along_contour[\"FITC\"]\n",
    "                _r,membrane_idx = measure_membrane_idx(fl_straighten_lateral)\n",
    "                l1,l2,r1,r2,h1,h2,pole,center = segmented_mean(fl_straighten_axial)\n",
    "                centrifugality = measure_centrifugality(pole,center)\n",
    "                variability_axial = measure_variability(fl_straighten_axial)\n",
    "                variability_contour = measure_variability(fl_contour)\n",
    "                body_symmetry = measure_symmetry(h1,h2)\n",
    "                pole_symmetry = measure_symmetry(l1,r2)\n",
    "                data = [counter,cell.plate_idx,cell.colony_label,cell.cell_label,cell.curvature,\\\n",
    "                        round(cell.length,2),round(cell.width.mean()*cell.pixel_microns,2),round(cell.perimeter_precise,2),\\\n",
    "                        cell.mean_fl_intensity[\"FITC\"],cell.SNR[\"FITC\"],\\\n",
    "                        membrane_idx,centrifugality,variability_axial,variability_contour,body_symmetry,pole_symmetry]\n",
    "                counter += 1\n",
    "                output.append(data)\n",
    "            except:\n",
    "                print(\"Error found!\")\n",
    "        column_name = [\"Index\",\"Image\",\"Colony\",\"Cell\",\"Curvature\",\"Length [um]\",\"Mean width [um]\",\"Perimeter [um]\",\\\n",
    "                       \"Mean fluorescent intensity\",\"SNR\",\"Membrane index\",\"Centrifugality\",\"Variability\",\"Variability on membrane\",\\\n",
    "                       \"Body symmetry\",\"Pole symmetry\"]\n",
    "        df = pd.DataFrame(output,columns=column_name)\n",
    "        df.to_excel(output_path+well_info+\"summary.xls\")"
   ]
  },
  {
   "cell_type": "code",
   "execution_count": 7,
   "metadata": {
    "scrolled": false
   },
   "outputs": [
    {
     "name": "stdout",
     "output_type": "stream",
     "text": [
      "Processing plate MSR13\n",
      "Error found!\n",
      "Error found!\n",
      "Error found!\n",
      "Error found!\n",
      "Error found!\n",
      "Error found!\n"
     ]
    },
    {
     "data": {
      "text/plain": [
       "'        \\nfolder = root_folder+\"MSR_PP1_IDW/\"\\nname = folder.split(\"/\")[-2]\\nplate = \"MSR_PP1\"\\nsubfolders = glob.glob(folder+\"*raw_files/\")\\nif len(subfolders) == 1:\\n    print(\"Processing plate %s\"%(plate))\\n    if len(glob.glob(subfolders[0]+\"*raw_files/\"))!=0:\\n        for babyfolder in glob.glob(subfolders[0]+\"*raw_files/\"):\\n            batch_measure(babyfolder+\"output/\")\\n    else:\\n        batch_measure(subfolders[0]+\"output/\")\\n'"
      ]
     },
     "execution_count": 7,
     "metadata": {},
     "output_type": "execute_result"
    }
   ],
   "source": [
    "root_folder = \"/Volumes/Sam/\"\n",
    "MSR_folders = glob.glob(root_folder+\"MSR*_IDW/\")\n",
    "#pattern = re.compile(\"(MSR[0-9]{1,2})\")\n",
    "\n",
    "for i in [13]:\n",
    "    folder = root_folder+\"MSR{}_IDW/\".format(i)\n",
    "    name = folder.split(\"/\")[-2]\n",
    "    plate = \"MSR{}\".format(i)\n",
    "    subfolders = glob.glob(folder+\"*raw_files/\")\n",
    "    if len(subfolders) == 1:\n",
    "        print(\"Processing plate %s\"%(plate))\n",
    "        if len(glob.glob(subfolders[0]+\"*raw_files/\"))!=0:\n",
    "            for babyfolder in glob.glob(subfolders[0]+\"*raw_files/\"):\n",
    "                batch_measure(babyfolder+\"output/\")\n",
    "        else:\n",
    "            batch_measure(subfolders[0]+\"output/\")\n",
    "\n",
    "\"\"\"        \n",
    "folder = root_folder+\"MSR_PP1_IDW/\"\n",
    "name = folder.split(\"/\")[-2]\n",
    "plate = \"MSR_PP1\"\n",
    "subfolders = glob.glob(folder+\"*raw_files/\")\n",
    "if len(subfolders) == 1:\n",
    "    print(\"Processing plate %s\"%(plate))\n",
    "    if len(glob.glob(subfolders[0]+\"*raw_files/\"))!=0:\n",
    "        for babyfolder in glob.glob(subfolders[0]+\"*raw_files/\"):\n",
    "            batch_measure(babyfolder+\"output/\")\n",
    "    else:\n",
    "        batch_measure(subfolders[0]+\"output/\")\n",
    "\"\"\"   "
   ]
  },
  {
   "cell_type": "code",
   "execution_count": 222,
   "metadata": {},
   "outputs": [
    {
     "data": {
      "text/plain": [
       "<matplotlib.collections.PathCollection at 0x13ac5fac8>"
      ]
     },
     "execution_count": 222,
     "metadata": {},
     "output_type": "execute_result"
    },
    {
     "data": {
      "image/png": "[encoded data removed]",
      "text/plain": [
       "<Figure size 432x288 with 1 Axes>"
      ]
     },
     "metadata": {},
     "output_type": "display_data"
    }
   ],
   "source": [
    "plt.scatter(cv_list,outlist2)\n",
    "#plt.plot([2,12],[1,1],'r')"
   ]
  },
  {
   "cell_type": "code",
   "execution_count": 390,
   "metadata": {},
   "outputs": [
    {
     "data": {
      "text/plain": [
       "{'FITC': array([ 33.17,  32.29,  24.36,  40.94,  32.59,  47.32,  34.7 ,  29.97,\n",
       "         66.44,  51.54,  15.55,  49.77,  47.82,  94.88,  63.96,  72.18,\n",
       "         45.2 ,  19.28,  57.84,  75.57,  32.11,   6.42,  76.57,  48.06,\n",
       "         26.87,   5.67,   2.57,  35.42,  68.97,  91.72,  37.68,  35.53,\n",
       "         42.62,  61.68,  24.9 ,  24.62,  40.18,  48.67,  30.07,  30.  ,\n",
       "         11.85,  14.54,  35.34,  16.45,  11.38,  16.18,  41.12,  58.39,\n",
       "         51.82,  61.84,  17.74,   8.36,  37.76,  74.7 ,  68.14,  60.77,\n",
       "         70.89,  79.07,  79.3 ,  54.75,  48.78,  23.54,  23.18,  37.7 ,\n",
       "         33.99,  47.94,  42.69,  54.93,  32.07,  25.22,  44.01,  71.57,\n",
       "         87.02,  58.35,  60.42,  57.43,  17.49,  33.83,  41.69,  59.82,\n",
       "         49.5 ,  48.24,  48.92,  18.88,  27.2 ,  59.32,  52.22,  28.5 ,\n",
       "         42.62,  57.54,  19.52,  31.86,  23.48,  56.66,  39.4 ,  55.76,\n",
       "         82.63,  25.58,  40.25,  29.98,  30.86,  42.36,  51.65,  91.16,\n",
       "        111.55,  66.86,  55.01, 101.64, 103.18,  86.37, 112.42,  51.76,\n",
       "         57.35,  54.8 ,  71.09,  92.56,  87.07,  70.82,  44.07,  60.8 ,\n",
       "         72.55,  47.4 ,  18.3 ,  61.86,  89.72,  41.48,  47.45,  67.46,\n",
       "         68.56,  82.25,  60.84,  74.51,  50.31,  82.11,  52.92,  87.03,\n",
       "         53.93,  48.73,  68.59,  20.68,  22.39,  65.82, 120.61,  96.08,\n",
       "         80.03,  65.41,  75.73,  96.21,  93.28, 152.73,  99.72, 145.87,\n",
       "        141.01, 151.93, 116.82, 131.22, 149.17,  62.31,  81.17, 117.63,\n",
       "         96.56,  85.77,  95.02,  86.18,  48.24,  53.77,  82.86,  70.49,\n",
       "         55.49,  96.07,  44.44,  42.83,  72.68,  76.29,  72.94, 108.24,\n",
       "         23.2 ,  14.94,  27.86,  42.02,  49.94,  37.09,   5.49,  32.53,\n",
       "         20.96,  47.56,  47.65,  42.11,  28.25,  30.63,  35.48,  64.64,\n",
       "         44.9 ,  33.17])}"
      ]
     },
     "execution_count": 390,
     "metadata": {},
     "output_type": "execute_result"
    }
   ],
   "source": [
    "data1[17].measure_along_contour"
   ]
  },
  {
   "cell_type": "code",
   "execution_count": 657,
   "metadata": {},
   "outputs": [
    {
     "data": {
      "text/plain": [
       "459"
      ]
     },
     "execution_count": 657,
     "metadata": {},
     "output_type": "execute_result"
    }
   ],
   "source": [
    "len(data2)"
   ]
  },
  {
   "cell_type": "code",
   "execution_count": 643,
   "metadata": {},
   "outputs": [],
   "source": [
    "SNR = []\n",
    "for cell in data2:\n",
    "    if cell.SNR[\"FITC\"] >3:\n",
    "        SNR.append(cell.SNR[\"FITC\"])"
   ]
  },
  {
   "cell_type": "code",
   "execution_count": 91,
   "metadata": {},
   "outputs": [
    {
     "data": {
      "text/plain": [
       "[<matplotlib.lines.Line2D at 0x135336b70>]"
      ]
     },
     "execution_count": 91,
     "metadata": {},
     "output_type": "execute_result"
    },
    {
     "data": {
      "image/png": "[encoded data removed]",
      "text/plain": [
       "<Figure size 432x288 with 1 Axes>"
      ]
     },
     "metadata": {},
     "output_type": "display_data"
    }
   ],
   "source": [
    "y = data1[54].fl_straighten[\"FITC\"][2]\n",
    "x = np.linspace(0,1,len(y))\n",
    "z_interpolated = interpolate.interp1d(x,y)\n",
    "m = z_interpolated(np.linspace(0,1,100))\n",
    "m_smoothed = moving_window_average(m)\n",
    "plt.plot(m_smoothed)"
   ]
  },
  {
   "cell_type": "code",
   "execution_count": 92,
   "metadata": {},
   "outputs": [
    {
     "data": {
      "text/plain": [
       "<matplotlib.collections.PathCollection at 0x1353cbdd8>"
      ]
     },
     "execution_count": 92,
     "metadata": {},
     "output_type": "execute_result"
    },
    {
     "data": {
      "image/png": "[encoded data removed]",
      "text/plain": [
       "<Figure size 432x288 with 1 Axes>"
      ]
     },
     "metadata": {},
     "output_type": "display_data"
    }
   ],
   "source": [
    "[a,b,c],d = adjusted_centrifugality(m_smoothed,quantile_filter=0.02)\n",
    "plt.plot(m_smoothed)\n",
    "plt.scatter([a*len(m_smoothed),b*len(m_smoothed),c*len(m_smoothed)],[50,50,50])"
   ]
  },
  {
   "cell_type": "code",
   "execution_count": 93,
   "metadata": {},
   "outputs": [],
   "source": [
    "a,b,c = int(a*len(m_smoothed)),int(b*len(m_smoothed)),int(c*len(m_smoothed))"
   ]
  },
  {
   "cell_type": "code",
   "execution_count": 94,
   "metadata": {},
   "outputs": [
    {
     "data": {
      "text/plain": [
       "(253.27168484848482, 184.08128007346184, 201.79450729517376, 243.2351490909091)"
      ]
     },
     "execution_count": 94,
     "metadata": {},
     "output_type": "execute_result"
    }
   ],
   "source": [
    "m_smoothed[:a].mean(),m_smoothed[a:b].mean(),m_smoothed[b:c].mean(),m_smoothed[c:].mean()"
   ]
  },
  {
   "cell_type": "code",
   "execution_count": 96,
   "metadata": {},
   "outputs": [
    {
     "data": {
      "text/plain": [
       "2.5812293759384417"
      ]
     },
     "execution_count": 96,
     "metadata": {},
     "output_type": "execute_result"
    }
   ],
   "source": [
    "(253.27168484848482/184.08128007346184)+(243.2351490909091/201.79450729517376)"
   ]
  },
  {
   "cell_type": "code",
   "execution_count": 224,
   "metadata": {},
   "outputs": [
    {
     "data": {
      "text/plain": [
       "[<matplotlib.lines.Line2D at 0x13d16a9b0>]"
      ]
     },
     "execution_count": 224,
     "metadata": {},
     "output_type": "execute_result"
    },
    {
     "data": {
      "image/png": "[encoded data removed]",
      "text/plain": [
       "<Figure size 432x288 with 1 Axes>"
      ]
     },
     "metadata": {},
     "output_type": "display_data"
    }
   ],
   "source": [
    "plt.plot(n_array[n_array>0.5])"
   ]
  },
  {
   "cell_type": "code",
   "execution_count": 261,
   "metadata": {},
   "outputs": [],
   "source": [
    "m_smoothed = m_smoothed[:-1]\n",
    "m_copied = np.zeros(m_smoothed.shape)\n",
    "w = 40\n",
    "for i in range(len(m_smoothed)):\n",
    "    m_copied[max(0,i-w):min(len(m_smoothed),i+w)] = m_smoothed[max(0,i-w):min(len(m_smoothed),i+w)].min()\n",
    "m_copied[i:] = m_copied[i]"
   ]
  },
  {
   "cell_type": "code",
   "execution_count": 248,
   "metadata": {},
   "outputs": [],
   "source": [
    "n_array = normalize_array(m_smoothed,m_smoothed.min(),m_smoothed.max(),base=0)"
   ]
  },
  {
   "cell_type": "code",
   "execution_count": 284,
   "metadata": {
    "scrolled": true
   },
   "outputs": [
    {
     "data": {
      "text/plain": [
       "[<matplotlib.lines.Line2D at 0x13f4ac9e8>]"
      ]
     },
     "execution_count": 284,
     "metadata": {},
     "output_type": "execute_result"
    },
    {
     "data": {
      "image/png": "[encoded data removed]",
      "text/plain": [
       "<Figure size 432x288 with 1 Axes>"
      ]
     },
     "metadata": {},
     "output_type": "display_data"
    }
   ],
   "source": [
    "plt.plot(m_smoothed)\n",
    "plt.plot(m)"
   ]
  },
  {
   "cell_type": "code",
   "execution_count": 272,
   "metadata": {
    "scrolled": true
   },
   "outputs": [
    {
     "data": {
      "text/plain": [
       "1.1559287731440526"
      ]
     },
     "execution_count": 272,
     "metadata": {},
     "output_type": "execute_result"
    }
   ],
   "source": [
    "m_smoothed[m_smoothed>np.percentile(m_smoothed,90)].mean()/m_smoothed.mean()"
   ]
  },
  {
   "cell_type": "code",
   "execution_count": 271,
   "metadata": {},
   "outputs": [
    {
     "data": {
      "text/plain": [
       "2.5625712776618665"
      ]
     },
     "execution_count": 271,
     "metadata": {},
     "output_type": "execute_result"
    }
   ],
   "source": [
    "m_smoothed.max()/m_smoothed.min()"
   ]
  },
  {
   "cell_type": "code",
   "execution_count": 273,
   "metadata": {},
   "outputs": [],
   "source": [
    "from math import log"
   ]
  },
  {
   "cell_type": "code",
   "execution_count": 283,
   "metadata": {},
   "outputs": [
    {
     "data": {
      "text/plain": [
       "0.3010299956639812"
      ]
     },
     "execution_count": 283,
     "metadata": {},
     "output_type": "execute_result"
    }
   ],
   "source": [
    "np.log10(2)"
   ]
  },
  {
   "cell_type": "code",
   "execution_count": 299,
   "metadata": {},
   "outputs": [],
   "source": [
    "a = moving_window_average(m,window_size=5)\n",
    "b = np.flip(moving_window_average(np.flip(m),window_size=5))"
   ]
  },
  {
   "cell_type": "code",
   "execution_count": 322,
   "metadata": {},
   "outputs": [
    {
     "data": {
      "text/plain": [
       "[<matplotlib.lines.Line2D at 0x140bae9e8>]"
      ]
     },
     "execution_count": 322,
     "metadata": {},
     "output_type": "execute_result"
    },
    {
     "data": {
      "image/png": "[encoded data removed]",
      "text/plain": [
       "<Figure size 432x288 with 1 Axes>"
      ]
     },
     "metadata": {},
     "output_type": "display_data"
    }
   ],
   "source": [
    "plt.plot(np.insert(a,[0,1],150))\n",
    "plt.plot(m)"
   ]
  },
  {
   "cell_type": "code",
   "execution_count": 2,
   "metadata": {},
   "outputs": [],
   "source": [
    "import umap"
   ]
  },
  {
   "cell_type": "code",
   "execution_count": 579,
   "metadata": {},
   "outputs": [],
   "source": [
    "data1 = pd.read_excel(\"/Volumes/Sam/MSR8_IDW/plate8_raw_files/07252019_raw_files/output/Well_B12summary.xls\")\n",
    "data2 = pd.read_excel(\"/Volumes/Sam/MSR8_IDW/plate8_raw_files/07252019_raw_files/output/Well_D07summary.xls\")"
   ]
  },
  {
   "cell_type": "code",
   "execution_count": 580,
   "metadata": {},
   "outputs": [],
   "source": [
    "data1[\"Well\"] = [\"D06\"]*len(data1)\n",
    "data2[\"Well\"] = [\"F12\"]*len(data2)"
   ]
  },
  {
   "cell_type": "code",
   "execution_count": 581,
   "metadata": {},
   "outputs": [],
   "source": [
    "merged = pd.concat([data1,data2])\n",
    "filtered = merged[merged[\"SNR\"]>2]"
   ]
  },
  {
   "cell_type": "code",
   "execution_count": 54,
   "metadata": {},
   "outputs": [],
   "source": [
    "features = [\"Membrane index\",\"Centrifugality\",\"Variability\",\"Variability on membrane\"]"
   ]
  },
  {
   "cell_type": "code",
   "execution_count": 14,
   "metadata": {},
   "outputs": [],
   "source": [
    "from sklearn import preprocessing\n",
    "from sklearn.decomposition import PCA"
   ]
  },
  {
   "cell_type": "code",
   "execution_count": 15,
   "metadata": {},
   "outputs": [],
   "source": [
    "x = input_data.values\n",
    "y = df[\"Well\"].values"
   ]
  },
  {
   "cell_type": "code",
   "execution_count": 75,
   "metadata": {},
   "outputs": [],
   "source": [
    "x_standardized = preprocessing.StandardScaler().fit_transform(x)\n",
    "#x_standardized = x.copy()\n",
    "pca = PCA(n_components=2)\n",
    "principalComponents = pca.fit_transform(x_standardized)\n",
    "principalDf = pd.DataFrame(data = principalComponents,columns = ['PC1','PC2'])"
   ]
  },
  {
   "cell_type": "code",
   "execution_count": 77,
   "metadata": {},
   "outputs": [
    {
     "data": {
      "text/plain": [
       "<matplotlib.axes._subplots.AxesSubplot at 0x132d30ac8>"
      ]
     },
     "execution_count": 77,
     "metadata": {},
     "output_type": "execute_result"
    },
    {
     "data": {
      "image/png": "[encoded data removed]",
      "text/plain": [
       "<Figure size 432x288 with 1 Axes>"
      ]
     },
     "metadata": {},
     "output_type": "display_data"
    }
   ],
   "source": [
    "import seaborn as sns\n",
    "sns.scatterplot(principalDf[\"PC1\"].values,principalDf[\"PC2\"],alpha = 0.8)"
   ]
  },
  {
   "cell_type": "code",
   "execution_count": 605,
   "metadata": {},
   "outputs": [
    {
     "data": {
      "text/plain": [
       "(array([  3.,   8.,  21.,  31.,  41.,  71., 112., 181., 312., 357., 413.,\n",
       "        319., 203.,  99.,  71.,  42.,  32.,  22.,   9.,  12.,  12.,  19.,\n",
       "         10.,  15.,  11.,   7.,   6.,  10.,   5.,   7.,   3.,   6.,   2.,\n",
       "          3.,   2.,   1.,   4.,   1.,   2.,   3.]),\n",
       " array([0.199 , 0.2126, 0.2262, 0.2398, 0.2534, 0.267 , 0.2806, 0.2942,\n",
       "        0.3078, 0.3214, 0.335 , 0.3486, 0.3622, 0.3758, 0.3894, 0.403 ,\n",
       "        0.4166, 0.4302, 0.4438, 0.4574, 0.471 , 0.4846, 0.4982, 0.5118,\n",
       "        0.5254, 0.539 , 0.5526, 0.5662, 0.5798, 0.5934, 0.607 , 0.6206,\n",
       "        0.6342, 0.6478, 0.6614, 0.675 , 0.6886, 0.7022, 0.7158, 0.7294,\n",
       "        0.743 ]),\n",
       " <a list of 40 Patch objects>)"
      ]
     },
     "execution_count": 605,
     "metadata": {},
     "output_type": "execute_result"
    },
    {
     "data": {
      "image/png": "[encoded data removed]",
      "text/plain": [
       "<Figure size 432x288 with 1 Axes>"
      ]
     },
     "metadata": {},
     "output_type": "display_data"
    }
   ],
   "source": [
    "plt.hist(data1[\"Membrane index\"],bins = 40)"
   ]
  },
  {
   "cell_type": "code",
   "execution_count": 76,
   "metadata": {},
   "outputs": [
    {
     "data": {
      "text/plain": [
       "array([0.62961116, 0.19403802])"
      ]
     },
     "execution_count": 76,
     "metadata": {},
     "output_type": "execute_result"
    }
   ],
   "source": [
    "pca.explained_variance_ratio_"
   ]
  },
  {
   "cell_type": "code",
   "execution_count": 606,
   "metadata": {},
   "outputs": [
    {
     "name": "stdout",
     "output_type": "stream",
     "text": [
      "[94.92667426 64.1646697 ]\n"
     ]
    }
   ],
   "source": [
    "print(pca.singular_values_)  "
   ]
  },
  {
   "cell_type": "code",
   "execution_count": 5,
   "metadata": {},
   "outputs": [],
   "source": [
    "xls = glob.glob(\"/Users/jz-rolling/Desktop/summary_sheets/*.xls\")"
   ]
  },
  {
   "cell_type": "code",
   "execution_count": 6,
   "metadata": {},
   "outputs": [],
   "source": [
    "import re\n",
    "pattern = re.compile(\"Well_([A-Z][0-9]+)summary.xls\")\n",
    "out = []\n",
    "wells = []\n",
    "feature = [\"Mean width [um]\",\"Mean fluorescent intensity\",\\\n",
    "           \"SNR\",\"Length [um]\",\"Membrane index\",\"Centrifugality\",\\\n",
    "           \"Variability\",\"Variability on membrane\",\"Body symmetry\",\"Pole symmetry\"]\n",
    "for file in xls:\n",
    "    plate = re.search(pattern,file).group(1)\n",
    "    data = pd.read_excel(file).loc[:,feature].copy()\n",
    "    filtered = data[data[\"SNR\"]>3]\n",
    "    if len(filtered) >= 50:\n",
    "        mean_val = filtered.describe().iloc[1]\n",
    "        mean_val[\"Well\"] = plate\n",
    "        mean_val[\"Count\"] = len(filtered)\n",
    "        out.append(list(mean_val.values))"
   ]
  },
  {
   "cell_type": "code",
   "execution_count": 7,
   "metadata": {},
   "outputs": [],
   "source": [
    "df = pd.DataFrame(out,columns=feature+[\"Well\",\"Count\"])"
   ]
  },
  {
   "cell_type": "code",
   "execution_count": 649,
   "metadata": {},
   "outputs": [
    {
     "data": {
      "text/plain": [
       "<matplotlib.axes._subplots.AxesSubplot at 0x153ed6550>"
      ]
     },
     "execution_count": 649,
     "metadata": {},
     "output_type": "execute_result"
    },
    {
     "data": {
      "image/png": "[encoded data removed]",
      "text/plain": [
       "<Figure size 432x288 with 1 Axes>"
      ]
     },
     "metadata": {},
     "output_type": "display_data"
    }
   ],
   "source": [
    "sns.scatterplot(df[\"Centrifugality\"],df[\"Membrane index\"])"
   ]
  },
  {
   "cell_type": "code",
   "execution_count": 27,
   "metadata": {},
   "outputs": [],
   "source": [
    "u = umap.UMAP()"
   ]
  },
  {
   "cell_type": "code",
   "execution_count": 66,
   "metadata": {},
   "outputs": [],
   "source": [
    "m = u.fit_transform(df[features])"
   ]
  },
  {
   "cell_type": "code",
   "execution_count": 69,
   "metadata": {},
   "outputs": [
    {
     "data": {
      "text/plain": [
       "<matplotlib.axes._subplots.AxesSubplot at 0x132a080b8>"
      ]
     },
     "execution_count": 69,
     "metadata": {},
     "output_type": "execute_result"
    },
    {
     "data": {
      "image/png": "[encoded data removed]",
      "text/plain": [
       "<Figure size 432x288 with 1 Axes>"
      ]
     },
     "metadata": {},
     "output_type": "display_data"
    }
   ],
   "source": [
    "sns.scatterplot(m[:,0],m[:,1])"
   ]
  },
  {
   "cell_type": "code",
   "execution_count": 68,
   "metadata": {},
   "outputs": [
    {
     "data": {
      "text/plain": [
       "array([[10.495869 , 10.761607 ],\n",
       "       [ 8.285487 , 10.254507 ],\n",
       "       [ 9.757578 , 10.437706 ],\n",
       "       [ 4.1786385, 12.5726595],\n",
       "       [ 9.120269 , 11.141239 ],\n",
       "       [ 4.569837 , 10.710091 ],\n",
       "       [ 5.1619806, 10.975656 ],\n",
       "       [ 4.523098 , 11.259278 ],\n",
       "       [ 4.0720863, 11.12001  ],\n",
       "       [ 4.543413 , 11.8007   ],\n",
       "       [ 3.8673816, 11.534502 ],\n",
       "       [ 6.203919 , 10.686604 ],\n",
       "       [10.179835 , 10.049163 ],\n",
       "       [ 5.464338 , 11.619508 ],\n",
       "       [ 6.015774 , 11.344526 ],\n",
       "       [ 4.956838 , 11.691537 ],\n",
       "       [ 8.559876 , 10.918237 ],\n",
       "       [ 8.919589 , 11.071637 ],\n",
       "       [ 4.8315263, 12.455841 ],\n",
       "       [ 4.25285  , 13.294627 ],\n",
       "       [ 9.802041 , 10.94473  ],\n",
       "       [ 5.1680765, 12.367624 ],\n",
       "       [ 4.0397725, 12.967509 ],\n",
       "       [ 9.3636675, 10.768802 ],\n",
       "       [ 5.0779715, 10.681438 ],\n",
       "       [ 5.625557 , 10.707243 ],\n",
       "       [ 8.24084  , 11.029231 ],\n",
       "       [ 8.319391 , 10.469724 ],\n",
       "       [10.568784 , 10.062906 ],\n",
       "       [ 5.128389 , 11.262048 ],\n",
       "       [10.230065 ,  9.932067 ],\n",
       "       [ 8.736996 , 10.507622 ],\n",
       "       [ 3.835978 , 11.902806 ],\n",
       "       [10.451875 , 10.240006 ],\n",
       "       [ 6.9310865, 10.711365 ],\n",
       "       [ 4.572471 , 12.607837 ],\n",
       "       [ 7.961178 , 10.665385 ],\n",
       "       [ 7.1996374, 11.907337 ],\n",
       "       [10.094552 , 10.529015 ],\n",
       "       [ 4.0026913, 12.277455 ],\n",
       "       [ 4.54919  , 13.057503 ]], dtype=float32)"
      ]
     },
     "execution_count": 68,
     "metadata": {},
     "output_type": "execute_result"
    }
   ],
   "source": [
    "m"
   ]
  },
  {
   "cell_type": "code",
   "execution_count": null,
   "metadata": {},
   "outputs": [],
   "source": []
  }
 ],
 "metadata": {
  "kernelspec": {
   "display_name": "Python 3",
   "language": "python",
   "name": "python3"
  },
  "language_info": {
   "codemirror_mode": {
    "name": "ipython",
    "version": 3
   },
   "file_extension": ".py",
   "mimetype": "text/x-python",
   "name": "python",
   "nbconvert_exporter": "python",
   "pygments_lexer": "ipython3",
   "version": "3.6.8"
  }
 },
 "nbformat": 4,
 "nbformat_minor": 2
}
